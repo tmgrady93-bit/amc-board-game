{
 "cells": [
  {
   "cell_type": "code",
   "execution_count": null,
   "id": "7ede2f6a",
   "metadata": {
    "vscode": {
     "languageId": "plaintext"
    }
   },
   "outputs": [],
   "source": [
    "# Test Spotipy connection (do NOT use passwords)\n",
    "\n",
    "This notebook helps you test a Spotipy (Spotify Web API) connection without using or storing your Spotify password.\n",
    "\n",
    "Required values (set these as environment variables or in Streamlit `secrets`):\n",
    "\n",
    "- `SPOTIPY_CLIENT_ID` — your Spotify Developer App Client ID\n",
    "- `SPOTIPY_CLIENT_SECRET` — your Spotify Developer App Client Secret\n",
    "- `SPOTIPY_REDIRECT_URI` — the redirect URI registered in your Spotify app settings\n",
    "\n",
    "Scopes the test will request: `user-read-private`, `user-read-playback-state`, `user-modify-playback-state`, `user-library-read`, `playlist-read-private`.\n",
    "\n",
    "Do NOT paste your Spotify account password into this notebook. Spotify uses OAuth — you authorize via the browser. If you want to test for a specific Spotify username (for cache files), you can use its username (example: `tg91`) as the `username` parameter for some helper functions, but you never provide the account password here.\n",
    "\n",
    "After running the next cell, if you have the environment variables set, it will print an authorization URL. Open that URL in your browser, authorize the app, then paste the redirected URL into a new code cell to exchange the code for a token."
   ]
  },
  {
   "cell_type": "code",
   "execution_count": null,
   "id": "101a5ca0",
   "metadata": {},
   "outputs": [],
   "source": [
    "import os\n",
    "from spotipy.oauth2 import SpotifyOAuth\n",
    "import spotipy\n",
    "\n",
    "SCOPE = 'user-read-private user-read-playback-state user-modify-playback-state user-library-read playlist-read-private'\n",
    "\n",
    "CLIENT_ID = os.getenv('SPOTIPY_CLIENT_ID')\n",
    "CLIENT_SECRET = os.getenv('SPOTIPY_CLIENT_SECRET')\n",
    "REDIRECT_URI = os.getenv('SPOTIPY_REDIRECT_URI')\n",
    "\n",
    "print('CLIENT_ID present:', bool(CLIENT_ID))\n",
    "print('CLIENT_SECRET present:', bool(CLIENT_SECRET))\n",
    "print('REDIRECT_URI present:', bool(REDIRECT_URI))\n",
    "\n",
    "if not (CLIENT_ID and CLIENT_SECRET and REDIRECT_URI):\n",
    "    print('\\nSet the three environment variables before proceeding.\\n')\n",
    "else:\n",
    "    sp_oauth = SpotifyOAuth(client_id=CLIENT_ID, client_secret=CLIENT_SECRET, redirect_uri=REDIRECT_URI, scope=SCOPE, open_browser=False)\n",
    "    auth_url = sp_oauth.get_authorize_url()\n",
    "    print('\\nOpen this URL in a browser to authorize the app:')\n",
    "    print(auth_url)\n",
    "\n",
    "# Note: do not use or store account passwords in the notebook."
   ]
  }
 ],
 "metadata": {
  "language_info": {
   "name": "python"
  }
 },
 "nbformat": 4,
 "nbformat_minor": 5
}
